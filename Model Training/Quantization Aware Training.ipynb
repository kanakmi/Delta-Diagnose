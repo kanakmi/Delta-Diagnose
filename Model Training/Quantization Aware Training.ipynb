{
 "cells": [
  {
   "cell_type": "markdown",
   "id": "36e3027e",
   "metadata": {},
   "source": [
    "## Input the required libraries"
   ]
  },
  {
   "cell_type": "code",
   "execution_count": 1,
   "id": "9f100b37",
   "metadata": {},
   "outputs": [],
   "source": [
    "import os"
   ]
  },
  {
   "cell_type": "code",
   "execution_count": 2,
   "id": "2f3ea45c",
   "metadata": {},
   "outputs": [],
   "source": [
    "os.environ['CUDA_VISIBLE_DEVICES'] = '-1'"
   ]
  },
  {
   "cell_type": "code",
   "execution_count": 3,
   "id": "6e7f6561",
   "metadata": {},
   "outputs": [],
   "source": [
    "import cv2\n",
    "import numpy as np\n",
    "from sklearn.model_selection import train_test_split\n",
    "import tensorflow as tf\n",
    "from tensorflow.keras import optimizers\n",
    "from tensorflow.keras.models import Model, load_model"
   ]
  },
  {
   "cell_type": "markdown",
   "id": "db606892",
   "metadata": {},
   "source": [
    "## Input the Dataset"
   ]
  },
  {
   "cell_type": "code",
   "execution_count": 4,
   "id": "8a4b90d7",
   "metadata": {},
   "outputs": [],
   "source": [
    "# function that would read an image provided the image path, preprocess and return it back\n",
    "\n",
    "def read_and_preprocess(img_path):\n",
    "    img = cv2.imread(img_path, cv2.IMREAD_COLOR) # reading the image\n",
    "    img = cv2.resize(img, (256, 256)) # resizing it (I just like it to be powers of 2)\n",
    "    img = np.array(img, dtype='float32') # convert its datatype so that it could be normalized\n",
    "    img = img/255 # normalization (now every pixel is in the range of 0 and 1)\n",
    "    return img"
   ]
  },
  {
   "cell_type": "code",
   "execution_count": 5,
   "id": "cccb3bf5",
   "metadata": {},
   "outputs": [],
   "source": [
    "X_train = [] # To store train images\n",
    "y_train = [] # To store train labels\n",
    "\n",
    "# labels -\n",
    "# 0 - Covid\n",
    "# 1 - Viral Pneumonia\n",
    "# 2 - Normal\n",
    "\n",
    "train_path = './dataset/train/' # path containing training image samples"
   ]
  },
  {
   "cell_type": "code",
   "execution_count": 6,
   "id": "d456cdff",
   "metadata": {},
   "outputs": [],
   "source": [
    "for folder in os.scandir(train_path):\n",
    "    for entry in os.scandir(train_path + folder.name):\n",
    "\n",
    "        X_train.append(read_and_preprocess(train_path + folder.name + '/' + entry.name))\n",
    "        \n",
    "        if folder.name[0]=='C':\n",
    "            y_train.append(0) # Covid\n",
    "        elif folder.name[0]=='V':\n",
    "            y_train.append(1) # Viral Pneumonia\n",
    "        else:\n",
    "            y_train.append(2) # Normal"
   ]
  },
  {
   "cell_type": "code",
   "execution_count": 7,
   "id": "6256df4b",
   "metadata": {},
   "outputs": [
    {
     "data": {
      "text/plain": [
       "(1955, 256, 256, 3)"
      ]
     },
     "execution_count": 7,
     "metadata": {},
     "output_type": "execute_result"
    }
   ],
   "source": [
    "X_train = np.array(X_train)\n",
    "X_train.shape # We have 1955 training samples in total"
   ]
  },
  {
   "cell_type": "code",
   "execution_count": 8,
   "id": "a01e7ff2",
   "metadata": {},
   "outputs": [
    {
     "data": {
      "text/plain": [
       "(1955,)"
      ]
     },
     "execution_count": 8,
     "metadata": {},
     "output_type": "execute_result"
    }
   ],
   "source": [
    "y_train = np.array(y_train)\n",
    "y_train.shape"
   ]
  },
  {
   "cell_type": "code",
   "execution_count": 9,
   "id": "d63075d6",
   "metadata": {},
   "outputs": [],
   "source": [
    "X_aug = []\n",
    "y_aug = []\n",
    "\n",
    "for i in range(0, len(y_train)):\n",
    "    X_new = np.fliplr(X_train[i])\n",
    "    X_aug.append(X_new)\n",
    "    y_aug.append(y_train[i])"
   ]
  },
  {
   "cell_type": "code",
   "execution_count": 10,
   "id": "d99858ee",
   "metadata": {},
   "outputs": [],
   "source": [
    "X_aug = np.array(X_aug)\n",
    "y_aug = np.array(y_aug)"
   ]
  },
  {
   "cell_type": "code",
   "execution_count": 11,
   "id": "af9bc1c3",
   "metadata": {},
   "outputs": [
    {
     "data": {
      "text/plain": [
       "(3910, 256, 256, 3)"
      ]
     },
     "execution_count": 11,
     "metadata": {},
     "output_type": "execute_result"
    }
   ],
   "source": [
    "X_train = np.append(X_train, X_aug, axis=0) # appending augmented images to original training samples\n",
    "X_train.shape"
   ]
  },
  {
   "cell_type": "code",
   "execution_count": 12,
   "id": "274443be",
   "metadata": {},
   "outputs": [
    {
     "data": {
      "text/plain": [
       "(3910,)"
      ]
     },
     "execution_count": 12,
     "metadata": {},
     "output_type": "execute_result"
    }
   ],
   "source": [
    "y_train = np.append(y_train, y_aug, axis=0)\n",
    "y_train.shape\n",
    "# Now we have 3910 samples in total"
   ]
  },
  {
   "cell_type": "markdown",
   "id": "436ee392",
   "metadata": {},
   "source": [
    "## Splitting the Data"
   ]
  },
  {
   "cell_type": "code",
   "execution_count": 13,
   "id": "1565f9d4",
   "metadata": {},
   "outputs": [],
   "source": [
    "# We have splitted our data in a way that - \n",
    "# 1. The samples are shuffled\n",
    "# 2. The ratio of each class is maintained (stratify)\n",
    "# 3. We get same samples every time we split our data (random state)\n",
    "X_train, X_val, y_train, y_val = train_test_split(X_train, y_train, test_size=0.15, shuffle=True, stratify=y_train, random_state=123)"
   ]
  },
  {
   "cell_type": "code",
   "execution_count": 14,
   "id": "0b723ee5",
   "metadata": {},
   "outputs": [
    {
     "data": {
      "text/plain": [
       "(3323,)"
      ]
     },
     "execution_count": 14,
     "metadata": {},
     "output_type": "execute_result"
    }
   ],
   "source": [
    "# we will use 3323 images for training the model\n",
    "y_train.shape"
   ]
  },
  {
   "cell_type": "code",
   "execution_count": 15,
   "id": "84fbfacc",
   "metadata": {
    "scrolled": false
   },
   "outputs": [
    {
     "data": {
      "text/plain": [
       "(587,)"
      ]
     },
     "execution_count": 15,
     "metadata": {},
     "output_type": "execute_result"
    }
   ],
   "source": [
    "# we will use 587 images for validating the model's performance\n",
    "y_val.shape"
   ]
  },
  {
   "cell_type": "code",
   "execution_count": 16,
   "id": "25aa39ab",
   "metadata": {},
   "outputs": [],
   "source": [
    "del X_aug\n",
    "del y_aug"
   ]
  },
  {
   "cell_type": "markdown",
   "id": "e3484654",
   "metadata": {},
   "source": [
    "## Converting the pretrained model to TFLite Model"
   ]
  },
  {
   "cell_type": "code",
   "execution_count": 17,
   "id": "d297492a",
   "metadata": {},
   "outputs": [],
   "source": [
    "# Load pretrained model (best saved one)\n",
    "with open('./Saved Model/covid_classifier_model.json', 'r') as json_file:\n",
    "    json_savedModel= json_file.read()\n",
    "    \n",
    "# load the model  \n",
    "model = tf.keras.models.model_from_json(json_savedModel)\n",
    "model.load_weights('./Saved Model/covid_classifier_weights.h5')\n",
    "model.compile(loss = 'sparse_categorical_crossentropy', optimizer=optimizers.Adam(learning_rate=0.0001), metrics= [\"accuracy\"])"
   ]
  },
  {
   "cell_type": "code",
   "execution_count": 18,
   "id": "7fbddf78",
   "metadata": {},
   "outputs": [
    {
     "name": "stdout",
     "output_type": "stream",
     "text": [
      "Model: \"sequential\"\n",
      "_________________________________________________________________\n",
      "Layer (type)                 Output Shape              Param #   \n",
      "=================================================================\n",
      "quantize_layer (QuantizeLaye (None, 256, 256, 3)       3         \n",
      "_________________________________________________________________\n",
      "quant_conv2d (QuantizeWrappe (None, 255, 255, 32)      483       \n",
      "_________________________________________________________________\n",
      "quant_max_pooling2d (Quantiz (None, 63, 63, 32)        1         \n",
      "_________________________________________________________________\n",
      "quant_conv2d_1 (QuantizeWrap (None, 63, 63, 64)        18627     \n",
      "_________________________________________________________________\n",
      "quant_max_pooling2d_1 (Quant (None, 21, 21, 64)        1         \n",
      "_________________________________________________________________\n",
      "quant_dropout (QuantizeWrapp (None, 21, 21, 64)        1         \n",
      "_________________________________________________________________\n",
      "quant_conv2d_2 (QuantizeWrap (None, 21, 21, 64)        65731     \n",
      "_________________________________________________________________\n",
      "quant_conv2d_3 (QuantizeWrap (None, 21, 21, 128)       205187    \n",
      "_________________________________________________________________\n",
      "quant_max_pooling2d_2 (Quant (None, 10, 10, 128)       1         \n",
      "_________________________________________________________________\n",
      "quant_dropout_1 (QuantizeWra (None, 10, 10, 128)       1         \n",
      "_________________________________________________________________\n",
      "quant_conv2d_4 (QuantizeWrap (None, 10, 10, 128)       409987    \n",
      "_________________________________________________________________\n",
      "quant_max_pooling2d_3 (Quant (None, 5, 5, 128)         1         \n",
      "_________________________________________________________________\n",
      "quant_dropout_2 (QuantizeWra (None, 5, 5, 128)         1         \n",
      "_________________________________________________________________\n",
      "quant_flatten (QuantizeWrapp (None, 3200)              1         \n",
      "_________________________________________________________________\n",
      "quant_dense (QuantizeWrapper (None, 512)               1638917   \n",
      "_________________________________________________________________\n",
      "quant_dropout_3 (QuantizeWra (None, 512)               1         \n",
      "_________________________________________________________________\n",
      "quant_dense_1 (QuantizeWrapp (None, 256)               131333    \n",
      "_________________________________________________________________\n",
      "quant_dropout_4 (QuantizeWra (None, 256)               1         \n",
      "_________________________________________________________________\n",
      "quant_dense_2 (QuantizeWrapp (None, 128)               32901     \n",
      "_________________________________________________________________\n",
      "quant_dense_3 (QuantizeWrapp (None, 3)                 392       \n",
      "=================================================================\n",
      "Total params: 2,503,571\n",
      "Trainable params: 2,502,691\n",
      "Non-trainable params: 880\n",
      "_________________________________________________________________\n"
     ]
    }
   ],
   "source": [
    "import tensorflow_model_optimization as tfmot\n",
    "\n",
    "quantize_model = tfmot.quantization.keras.quantize_model\n",
    "\n",
    "# q_aware stands for for quantization aware.\n",
    "q_aware_model = quantize_model(model)\n",
    "\n",
    "# `quantize_model` requires a recompile.\n",
    "q_aware_model.compile(optimizer=optimizers.Adam(learning_rate=0.0001), loss='sparse_categorical_crossentropy', metrics=['accuracy'])\n",
    "\n",
    "q_aware_model.summary()"
   ]
  },
  {
   "cell_type": "code",
   "execution_count": 21,
   "id": "b66115f3",
   "metadata": {},
   "outputs": [
    {
     "name": "stdout",
     "output_type": "stream",
     "text": [
      "Epoch 1/5\n",
      "104/104 [==============================] - 120s 1s/step - loss: 0.0360 - accuracy: 0.9874 - val_loss: 0.1099 - val_accuracy: 0.9659\n",
      "Epoch 2/5\n",
      "104/104 [==============================] - 122s 1s/step - loss: 0.0425 - accuracy: 0.9874 - val_loss: 0.1003 - val_accuracy: 0.9693\n",
      "Epoch 3/5\n",
      "104/104 [==============================] - 121s 1s/step - loss: 0.0350 - accuracy: 0.9886 - val_loss: 0.0887 - val_accuracy: 0.9642\n",
      "Epoch 4/5\n",
      "104/104 [==============================] - 117s 1s/step - loss: 0.0342 - accuracy: 0.9883 - val_loss: 0.1055 - val_accuracy: 0.9642\n",
      "Epoch 5/5\n",
      "104/104 [==============================] - 116s 1s/step - loss: 0.0337 - accuracy: 0.9871 - val_loss: 0.0874 - val_accuracy: 0.9710\n"
     ]
    }
   ],
   "source": [
    "history = q_aware_model.fit(X_train, y_train, validation_data=(X_val, y_val), epochs = 5)"
   ]
  },
  {
   "cell_type": "markdown",
   "id": "45e086f7",
   "metadata": {},
   "source": [
    "## Loading the Test Images"
   ]
  },
  {
   "cell_type": "code",
   "execution_count": 23,
   "id": "a6c0b0cd",
   "metadata": {},
   "outputs": [],
   "source": [
    "X_test = [] # To store test images\n",
    "y_test = [] # To store test labels\n",
    "\n",
    "test_path = './dataset/test/'\n",
    "\n",
    "for folder in os.scandir(test_path):\n",
    "    for entry in os.scandir(test_path + folder.name):\n",
    "\n",
    "        X_test.append(read_and_preprocess(test_path + folder.name + '/' + entry.name))\n",
    "        \n",
    "        if folder.name[0]=='C':\n",
    "            y_test.append(0)\n",
    "        elif folder.name[0]=='V':\n",
    "            y_test.append(1)\n",
    "        else:\n",
    "            y_test.append(2)\n",
    "            \n",
    "X_test = np.array(X_test)\n",
    "y_test = np.array(y_test)"
   ]
  },
  {
   "cell_type": "code",
   "execution_count": 24,
   "id": "e11d3d9a",
   "metadata": {},
   "outputs": [
    {
     "data": {
      "text/plain": [
       "(185, 256, 256, 3)"
      ]
     },
     "execution_count": 24,
     "metadata": {},
     "output_type": "execute_result"
    }
   ],
   "source": [
    "X_test.shape # We have 185 images for testing"
   ]
  },
  {
   "cell_type": "code",
   "execution_count": 25,
   "id": "54930b22",
   "metadata": {},
   "outputs": [],
   "source": [
    "# making predictions\n",
    "predictions = q_aware_model.predict(X_test)"
   ]
  },
  {
   "cell_type": "code",
   "execution_count": 26,
   "id": "32f543ee",
   "metadata": {},
   "outputs": [],
   "source": [
    "# Obtain the predicted class from the model prediction\n",
    "predict = []\n",
    "\n",
    "for i in predictions:\n",
    "  predict.append(np.argmax(i))\n",
    "\n",
    "predict = np.asarray(predict)"
   ]
  },
  {
   "cell_type": "code",
   "execution_count": 27,
   "id": "d51042ce",
   "metadata": {},
   "outputs": [
    {
     "data": {
      "text/plain": [
       "0.9891891891891892"
      ]
     },
     "execution_count": 27,
     "metadata": {},
     "output_type": "execute_result"
    }
   ],
   "source": [
    "# Obtain the accuracy of the model\n",
    "from sklearn.metrics import accuracy_score\n",
    "\n",
    "accuracy = accuracy_score(y_test, predict)\n",
    "accuracy"
   ]
  },
  {
   "cell_type": "code",
   "execution_count": 28,
   "id": "8e1a060b",
   "metadata": {
    "scrolled": false
   },
   "outputs": [
    {
     "data": {
      "text/plain": [
       "<AxesSubplot:>"
      ]
     },
     "execution_count": 28,
     "metadata": {},
     "output_type": "execute_result"
    },
    {
     "data": {
      "image/png": "[encoded data removed]",
      "text/plain": [
       "<Figure size 504x504 with 2 Axes>"
      ]
     },
     "metadata": {
      "needs_background": "light"
     },
     "output_type": "display_data"
    }
   ],
   "source": [
    "# plot the confusion matrix\n",
    "import matplotlib.pyplot as plt\n",
    "import seaborn as sns\n",
    "from sklearn.metrics import confusion_matrix\n",
    "\n",
    "cm = confusion_matrix(y_test, predict)\n",
    "plt.figure(figsize = (7,7))\n",
    "sns.heatmap(cm, annot=True, cmap='Blues')\n",
    "\n",
    "# The model misclassified one Covid case as Normal and one Normal case as Viral Pneumonia"
   ]
  },
  {
   "cell_type": "code",
   "execution_count": 32,
   "id": "237f086a",
   "metadata": {},
   "outputs": [
    {
     "name": "stdout",
     "output_type": "stream",
     "text": [
      "              precision    recall  f1-score   support\n",
      "\n",
      "           0       1.00      0.98      0.99        58\n",
      "           1       0.98      1.00      0.99        63\n",
      "           2       0.98      0.98      0.98        64\n",
      "\n",
      "    accuracy                           0.99       185\n",
      "   macro avg       0.99      0.99      0.99       185\n",
      "weighted avg       0.99      0.99      0.99       185\n",
      "\n"
     ]
    }
   ],
   "source": [
    "from sklearn.metrics import classification_report\n",
    "\n",
    "report = classification_report(y_test, predict)\n",
    "print(report)"
   ]
  },
  {
   "cell_type": "code",
   "execution_count": 30,
   "id": "fffcd649",
   "metadata": {},
   "outputs": [
    {
     "name": "stderr",
     "output_type": "stream",
     "text": [
      "WARNING:absl:Found untraced functions such as conv2d_layer_call_fn, conv2d_layer_call_and_return_conditional_losses, conv2d_1_layer_call_fn, conv2d_1_layer_call_and_return_conditional_losses, dropout_layer_call_fn while saving (showing 5 of 75). These functions will not be directly callable after loading.\n"
     ]
    },
    {
     "name": "stdout",
     "output_type": "stream",
     "text": [
      "INFO:tensorflow:Assets written to: C:\\Users\\kanak\\AppData\\Local\\Temp\\tmp5lkdlpmq\\assets\n"
     ]
    },
    {
     "name": "stderr",
     "output_type": "stream",
     "text": [
      "INFO:tensorflow:Assets written to: C:\\Users\\kanak\\AppData\\Local\\Temp\\tmp5lkdlpmq\\assets\n"
     ]
    }
   ],
   "source": [
    "converter = tf.lite.TFLiteConverter.from_keras_model(q_aware_model)\n",
    "converter.optimizations = [tf.lite.Optimize.DEFAULT]\n",
    "\n",
    "tflite_qaware_model = converter.convert()"
   ]
  },
  {
   "cell_type": "code",
   "execution_count": 34,
   "id": "cc948a52",
   "metadata": {},
   "outputs": [
    {
     "name": "stdout",
     "output_type": "stream",
     "text": [
      "Model size reduced from 30.1 MB to  2.41  MB\n"
     ]
    }
   ],
   "source": [
    "print(\"Model size reduced from 30.1 MB to \", np.around(len(tflite_qaware_model)/(1024*1024),2), \" MB\")"
   ]
  },
  {
   "cell_type": "code",
   "execution_count": 35,
   "id": "284f2807",
   "metadata": {},
   "outputs": [],
   "source": [
    "with open(\"covid_classifier.tflite\", 'wb') as f:\n",
    "    f.write(tflite_qaware_model)"
   ]
  }
 ],
 "metadata": {
  "kernelspec": {
   "display_name": "Python 3",
   "language": "python",
   "name": "python3"
  },
  "language_info": {
   "codemirror_mode": {
    "name": "ipython",
    "version": 3
   },
   "file_extension": ".py",
   "mimetype": "text/x-python",
   "name": "python",
   "nbconvert_exporter": "python",
   "pygments_lexer": "ipython3",
   "version": "3.8.8"
  }
 },
 "nbformat": 4,
 "nbformat_minor": 5
}
